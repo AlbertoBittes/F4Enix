{
 "cells": [
  {
   "cell_type": "code",
   "execution_count": 1,
   "metadata": {},
   "outputs": [],
   "source": [
    "from f4eparser.input.inputAPI import Input"
   ]
  },
  {
   "cell_type": "code",
   "execution_count": 2,
   "metadata": {},
   "outputs": [
    {
     "name": "stdout",
     "output_type": "stream",
     "text": [
      "['__class__', '__delattr__', '__dict__', '__dir__', '__doc__', '__eq__', '__format__', '__ge__', '__getattribute__', '__gt__', '__hash__', '__init__', '__init_subclass__', '__le__', '__lt__', '__module__', '__ne__', '__new__', '__reduce__', '__reduce_ex__', '__repr__', '__setattr__', '__sizeof__', '__str__', '__subclasshook__', '__weakref__', '_get_cards_by_id', '_parse_data_section', '_to_dict', '_write_cards', 'cells', 'extract_cells', 'from_input', 'get_cells_by_id', 'get_materials_subset', 'get_surfs_by_id', 'header', 'materials', 'other_data', 'surfs', 'transformations', 'translate', 'update_zaidinfo', 'write']\n"
     ]
    }
   ],
   "source": [
    "inpfile = r'D:\\DATA\\laghida\\Documents\\GitHub\\F4Eparser\\tests\\resources\\input\\test.i'\n",
    "\n",
    "# Read the input file\n",
    "inp = Input.from_input(inpfile)\n",
    "print(dir(inp))"
   ]
  },
  {
   "cell_type": "code",
   "execution_count": 9,
   "metadata": {},
   "outputs": [
    {
     "name": "stdout",
     "output_type": "stream",
     "text": [
      "{'M1': <f4eparser.input.materials.Material object at 0x000001E98A71E170>, 'M2': <f4eparser.input.materials.Material object at 0x000001E98A71E2C0>, 'M7': <f4eparser.input.materials.Material object at 0x000001E98A71E650>, 'M8': <f4eparser.input.materials.Material object at 0x000001E98A71EB60>, 'M9': <f4eparser.input.materials.Material object at 0x000001E98A71EC50>, 'M11': <f4eparser.input.materials.Material object at 0x000001E98A79D720>, 'M12': <f4eparser.input.materials.Material object at 0x000001E98A79EA70>, 'M13': <f4eparser.input.materials.Material object at 0x000001E98A7BF220>, 'M14': <f4eparser.input.materials.Material object at 0x000001E98A7BF790>, 'M15': <f4eparser.input.materials.Material object at 0x000001E98A7DA5C0>, 'M16': <f4eparser.input.materials.Material object at 0x000001E98A7DA7D0>, 'M17': <f4eparser.input.materials.Material object at 0x000001E98A7DAAA0>, 'M18': <f4eparser.input.materials.Material object at 0x000001E98A7DAD10>, 'M19': <f4eparser.input.materials.Material object at 0x000001E98A7DAE60>, 'M20': <f4eparser.input.materials.Material object at 0x000001E98A7DB010>, 'M21': <f4eparser.input.materials.Material object at 0x000001E98A7DB3A0>, 'M22': <f4eparser.input.materials.Material object at 0x000001E98A7FD7B0>, 'M23': <f4eparser.input.materials.Material object at 0x000001E98A7FFEB0>, 'M24': <f4eparser.input.materials.Material object at 0x000001E98A81E8C0>, 'M25': <f4eparser.input.materials.Material object at 0x000001E98A8415D0>, 'M26': <f4eparser.input.materials.Material object at 0x000001E98A8642E0>, 'M27': <f4eparser.input.materials.Material object at 0x000001E98A8666B0>, 'M28': <f4eparser.input.materials.Material object at 0x000001E98A882200>, 'M29': <f4eparser.input.materials.Material object at 0x000001E98A883970>, 'M30': <f4eparser.input.materials.Material object at 0x000001E98A883CA0>}\n",
      "c  -----------------------------------------------------------------\n",
      "C           o-------------------------------------------------------o\n",
      "c           |    Copper                                             |\n",
      "c           |    t.a.d. =   8.29204E-02                        M2   |\n",
      "C           o-------------------------------------------------------o\n",
      "c\n",
      "M2\n",
      "      29063.31c        5.733950E-2     $        AB(%)     \n",
      "      29065.31c        2.558090E-2     $        AB(%)     \n",
      "\t plib=84p\n"
     ]
    }
   ],
   "source": [
    "# This is equivalent to JADE Material section object\n",
    "print(inp.materials)\n",
    "material = inp.materials['m2']\n",
    "print(material.to_text())"
   ]
  },
  {
   "cell_type": "code",
   "execution_count": null,
   "metadata": {},
   "outputs": [],
   "source": []
  },
  {
   "cell_type": "code",
   "execution_count": null,
   "metadata": {},
   "outputs": [],
   "source": []
  }
 ],
 "metadata": {
  "kernelspec": {
   "display_name": "mcAPI",
   "language": "python",
   "name": "python3"
  },
  "language_info": {
   "codemirror_mode": {
    "name": "ipython",
    "version": 3
   },
   "file_extension": ".py",
   "mimetype": "text/x-python",
   "name": "python",
   "nbconvert_exporter": "python",
   "pygments_lexer": "ipython3",
   "version": "3.10.9"
  },
  "orig_nbformat": 4
 },
 "nbformat": 4,
 "nbformat_minor": 2
}
