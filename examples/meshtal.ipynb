{
 "cells": [
  {
   "cell_type": "code",
   "execution_count": 34,
   "metadata": {},
   "outputs": [],
   "source": [
    "import os\n",
    "import numpy as np\n",
    "from f4enix.output.meshtal import Meshtal\n",
    "import pyvista as pv"
   ]
  },
  {
   "cell_type": "code",
   "execution_count": 7,
   "metadata": {},
   "outputs": [],
   "source": [
    "root = r'R:\\AC_ResultsDB\\Marco\\02_ASSESSMENT\\15_202304_sensitivity_studies_on_Be_W\\02_MCNP'\n",
    "outpath = r'R:\\AC_ResultsDB\\Marco\\02_ASSESSMENT\\15_202304_sensitivity_studies_on_Be_W\\03_POST-PROCESSING\\test_davide'\n",
    "\n",
    "be_meshtal = r'C_Model_Be/C_Model_Be_prod.msht'\n",
    "be_B_meshtal = r'C_Model_Be_B/C_Model_Be_B_prod.msht'\n",
    "\n",
    "be = Meshtal(os.path.join(root, be_meshtal))\n",
    "be_B = Meshtal(os.path.join(root, be_B_meshtal))\n",
    "\n",
    "be.readMesh()\n",
    "be_B.readMesh()"
   ]
  },
  {
   "cell_type": "code",
   "execution_count": 18,
   "metadata": {},
   "outputs": [],
   "source": [
    "n_flux_be = be.mesh[114].vtk\n",
    "n_flux_be_B = be_B.mesh[114].vtk"
   ]
  },
  {
   "cell_type": "code",
   "execution_count": 38,
   "metadata": {},
   "outputs": [
    {
     "name": "stderr",
     "output_type": "stream",
     "text": [
      "C:\\Users\\laghida\\AppData\\Local\\Temp\\ipykernel_14012\\3144508434.py:1: RuntimeWarning: invalid value encountered in divide\n",
      "  ratio_cases = np.divide(n_flux_be_B.mesh['Value - Total'], n_flux_be.mesh['Value - Total'])\n"
     ]
    }
   ],
   "source": [
    "ratio_cases = np.divide(n_flux_be_B.mesh['Value - Total'], n_flux_be.mesh['Value - Total'])\n",
    "ratio_cases = np.nan_to_num(ratio_cases, 0)\n",
    "\n",
    "n_flux_be.mesh['N flux, Be-B/Be'] = ratio_cases\n",
    "n_flux_be.write_mesh(outpath)\n"
   ]
  },
  {
   "cell_type": "code",
   "execution_count": 27,
   "metadata": {},
   "outputs": [
    {
     "data": {
      "text/plain": [
       "pyvista_ndarray([0.96554204, 0.95317355, 0.9677606 , ...,        nan,\n",
       "                        nan,        nan])"
      ]
     },
     "execution_count": 27,
     "metadata": {},
     "output_type": "execute_result"
    }
   ],
   "source": [
    "ratio_cases"
   ]
  },
  {
   "cell_type": "code",
   "execution_count": null,
   "metadata": {},
   "outputs": [],
   "source": []
  }
 ],
 "metadata": {
  "kernelspec": {
   "display_name": "mcAPI",
   "language": "python",
   "name": "python3"
  },
  "language_info": {
   "codemirror_mode": {
    "name": "ipython",
    "version": 3
   },
   "file_extension": ".py",
   "mimetype": "text/x-python",
   "name": "python",
   "nbconvert_exporter": "python",
   "pygments_lexer": "ipython3",
   "version": "3.10.9"
  },
  "orig_nbformat": 4
 },
 "nbformat": 4,
 "nbformat_minor": 2
}
