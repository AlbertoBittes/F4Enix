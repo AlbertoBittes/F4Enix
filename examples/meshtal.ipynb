{
 "cells": [
  {
   "cell_type": "code",
   "execution_count": 2,
   "metadata": {},
   "outputs": [],
   "source": [
    "from f4enix.output.meshtal import Meshtal"
   ]
  },
  {
   "cell_type": "code",
   "execution_count": 3,
   "metadata": {},
   "outputs": [
    {
     "data": {
      "text/plain": [
       "\n",
       " Meshtally file : D:\\DATA\\laghida\\Desktop\\file\\cuvmsh   Tally 24 : neutron  cuv mesh   'Test cell under voxel' "
      ]
     },
     "execution_count": 3,
     "metadata": {},
     "output_type": "execute_result"
    }
   ],
   "source": [
    "# Initialize the meshtal file\n",
    "file = r'D:\\DATA\\laghida\\Desktop\\file\\cuvmsh'\n",
    "meshtal = Meshtal(file)\n",
    "meshtal"
   ]
  },
  {
   "cell_type": "code",
   "execution_count": 4,
   "metadata": {},
   "outputs": [],
   "source": [
    "# if no mesh are specified all mesh are read\n",
    "meshtal.readMesh()"
   ]
  },
  {
   "cell_type": "code",
   "execution_count": 5,
   "metadata": {},
   "outputs": [
    {
     "data": {
      "text/plain": [
       "{24: <f4enix.output.meshtal.Fmesh at 0x1d0d3d26ce0>}"
      ]
     },
     "execution_count": 5,
     "metadata": {},
     "output_type": "execute_result"
    }
   ],
   "source": [
    "# Check available meshes\n",
    "meshtal.mesh"
   ]
  },
  {
   "cell_type": "code",
   "execution_count": 8,
   "metadata": {},
   "outputs": [
    {
     "name": "stdout",
     "output_type": "stream",
     "text": [
      " Tally          : 24\n",
      " Comments       : \n",
      "      Test cell under voxel                                                      \n",
      " Particle       : neutron\n",
      " Mesh type      : cuv\n",
      " Dose modif     : False\n",
      " Mesh geometry  : rectangular\n",
      " Mesh origin    : 0.0 0.0 0.0\n",
      " X dimensions   :   0.000e+00   50I  1.020e+02\n",
      " Y dimensions   :   0.000e+00   50I  1.020e+02\n",
      " Z dimensions   :   0.000e+00   50I  1.020e+02\n",
      " Energy bins    :\n",
      "         flag : energy\n",
      "    bin index : bin range  \n"
     ]
    }
   ],
   "source": [
    "# Read a specific CuV fmesh filtering by a set of cells\n",
    "# and changing the normalization to get the integral result\n",
    "meshtal.readMesh(24, cell_filters=[1], norm='vtot')\n",
    "fmesh = meshtal.mesh[24]\n",
    "fmesh.print_info()\n",
    "outpath = r'D:\\DATA\\laghida\\Desktop\\file'\n",
    "fmesh.writeVTK(outpath)"
   ]
  },
  {
   "cell_type": "code",
   "execution_count": null,
   "metadata": {},
   "outputs": [],
   "source": []
  },
  {
   "cell_type": "code",
   "execution_count": null,
   "metadata": {},
   "outputs": [],
   "source": []
  }
 ],
 "metadata": {
  "kernelspec": {
   "display_name": "mcAPI",
   "language": "python",
   "name": "python3"
  },
  "language_info": {
   "codemirror_mode": {
    "name": "ipython",
    "version": 3
   },
   "file_extension": ".py",
   "mimetype": "text/x-python",
   "name": "python",
   "nbconvert_exporter": "python",
   "pygments_lexer": "ipython3",
   "version": "3.10.9"
  },
  "orig_nbformat": 4
 },
 "nbformat": 4,
 "nbformat_minor": 2
}
