{
 "cells": [
  {
   "cell_type": "code",
   "execution_count": 1,
   "metadata": {},
   "outputs": [],
   "source": [
    "from f4enix.output.meshtal import Meshtal"
   ]
  },
  {
   "cell_type": "code",
   "execution_count": 2,
   "metadata": {},
   "outputs": [
    {
     "data": {
      "text/plain": [
       "\n",
       " Meshtally file : cuvmsh   Tally 24 : neutron  cuv mesh   'Test cell under voxel' "
      ]
     },
     "execution_count": 2,
     "metadata": {},
     "output_type": "execute_result"
    }
   ],
   "source": [
    "# Initialize the meshtal file\n",
    "file = r'D:\\DATA\\laghida\\Desktop\\file\\cuvmsh'\n",
    "meshtal = Meshtal(file)\n",
    "meshtal"
   ]
  },
  {
   "cell_type": "code",
   "execution_count": 3,
   "metadata": {},
   "outputs": [
    {
     "data": {
      "text/plain": [
       "{24: <f4enix.output.meshtal.Fmesh at 0x1badb9d4310>}"
      ]
     },
     "execution_count": 3,
     "metadata": {},
     "output_type": "execute_result"
    }
   ],
   "source": [
    "# if no mesh are specified all mesh are read\n",
    "meshtal.readMesh()\n",
    "# Check available meshes\n",
    "meshtal.mesh"
   ]
  },
  {
   "cell_type": "code",
   "execution_count": 4,
   "metadata": {},
   "outputs": [
    {
     "name": "stdout",
     "output_type": "stream",
     "text": [
      "<class 'f4enix.output.pyvistawrap.PyVistaWrapper'>\n",
      "\n",
      "    Name: cuvmsh_24\n",
      "        \n",
      "\n",
      "    Number of cells: 132651\n",
      "    Number of points: 140608\n",
      "    Cells arrays: ['Value [/cc]', 'Error - Total']\n",
      "    Points arrays: []\n",
      "    Number of coordinates: 3\n",
      "    Mesh bounds:  -51.00 51.00 -51.00 51.00 -51.00 51.00\n",
      "    Mesh dimensions:  102.00 102.00 102.00\n",
      "    Mesh type: RectilinearGrid\n",
      "        \n"
     ]
    }
   ],
   "source": [
    "# Once the mesh is read, the vtk attribute has been filled with\n",
    "# a PyVistaWrapper that has the capabilities of the legacy vtkconverter\n",
    "# dump all meshes\n",
    "print(type(meshtal.mesh[24].vtk))\n",
    "print(meshtal.mesh[24].vtk)"
   ]
  },
  {
   "cell_type": "code",
   "execution_count": 5,
   "metadata": {},
   "outputs": [
    {
     "name": "stdout",
     "output_type": "stream",
     "text": [
      " Tally          : 24\n",
      " Comments       : \n",
      "      Test cell under voxel                                                      \n",
      " Particle       : neutron\n",
      " Mesh type      : cuv\n",
      " Dose modif     : False\n",
      " Mesh geometry  : rectangular\n",
      " Mesh origin    : 0.0 0.0 0.0\n",
      " X dimensions   :   0.000e+00   50I  1.020e+02\n",
      " Y dimensions   :   0.000e+00   50I  1.020e+02\n",
      " Z dimensions   :   0.000e+00   50I  1.020e+02\n",
      " Energy bins    :\n",
      "         flag : energy\n",
      "    bin index : bin range  \n"
     ]
    },
    {
     "name": "stderr",
     "output_type": "stream",
     "text": [
      "Writing x: 100%|██████████| 132651/132651 [00:00<00:00, 204617.39 x points/s]\n",
      "Writing y: 100%|██████████| 132651/132651 [00:00<00:00, 217292.19 y points/s]\n",
      "Writing z: 100%|██████████| 132651/132651 [00:00<00:00, 227737.30 z points/s]\n",
      "Writing values: 100%|██████████| 132651/132651 [00:00<00:00, 770635.26 values/s]\n"
     ]
    }
   ],
   "source": [
    "# Read a specific CuV fmesh filtering by a set of cells\n",
    "# and changing the normalization to get the integral result\n",
    "meshtal.readMesh(24, cell_filters=[1], norm='vtot')\n",
    "fmesh = meshtal.mesh[24]\n",
    "fmesh.print_info()\n",
    "outpath = r'D:\\DATA\\laghida\\Desktop\\file'\n",
    "\n",
    "# it can be exported to different formats, extension will be inferred\n",
    "# automatically\n",
    "fmesh.vtk.write_mesh(outpath)\n",
    "fmesh.vtk.write_mesh(outpath, out_format='ip_fluent')"
   ]
  },
  {
   "cell_type": "code",
   "execution_count": null,
   "metadata": {},
   "outputs": [],
   "source": []
  },
  {
   "cell_type": "code",
   "execution_count": null,
   "metadata": {},
   "outputs": [],
   "source": []
  }
 ],
 "metadata": {
  "kernelspec": {
   "display_name": "mcAPI",
   "language": "python",
   "name": "python3"
  },
  "language_info": {
   "codemirror_mode": {
    "name": "ipython",
    "version": 3
   },
   "file_extension": ".py",
   "mimetype": "text/x-python",
   "name": "python",
   "nbconvert_exporter": "python",
   "pygments_lexer": "ipython3",
   "version": "3.10.9"
  },
  "orig_nbformat": 4
 },
 "nbformat": 4,
 "nbformat_minor": 2
}
